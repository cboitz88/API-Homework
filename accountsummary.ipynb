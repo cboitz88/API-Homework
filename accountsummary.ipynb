{
 "cells": [
  {
   "cell_type": "code",
   "execution_count": 1,
   "metadata": {},
   "outputs": [],
   "source": [
    "import os\n",
    "import plaid\n",
    "import requests\n",
    "import datetime\n",
    "import json\n",
    "import pandas as pd\n",
    "%matplotlib inline"
   ]
  },
  {
   "cell_type": "code",
   "execution_count": 2,
   "metadata": {},
   "outputs": [],
   "source": [
    "def pretty_print_response(response):\n",
    "  print(json.dumps(response, indent=4, sort_keys=True))"
   ]
  },
  {
   "cell_type": "code",
   "execution_count": 3,
   "metadata": {},
   "outputs": [],
   "source": [
    "PLAID_CLIENT_ID = os.getenv('PLAID_CLIENT_ID')\n",
    "PLAID_SECRET = os.getenv('PLAID_SECRET')\n",
    "PLAID_PUBLIC_KEY = os.getenv('PLAID_PUBLIC_KEY')\n",
    "PLAID_ENV = os.getenv('PLAID_ENV', 'sandbox')\n",
    "PLAID_PRODUCTS = os.getenv('PLAID_PRODUCTS', 'transactions')"
   ]
  },
  {
   "cell_type": "markdown",
   "metadata": {},
   "source": [
    "# Plaid Access Token\n",
    "\n",
    "In this section, you will use the plaid-python api to generate the correct authentication tokens to access data in the free developer Sandbox. This mimics how you might connect to your own account or a customer account, but due to privacy issues, this homework will only require connecting to and analyzing the fake data from the developer sandbox that Plaid provides. \n",
    "\n",
    "Complete the following steps to generate an access token:\n",
    "1. Create a client to connect to paid\n",
    "2. Use the client to generate a public token and request the following items: \n",
    "['transactions', 'income', 'assets']\n",
    "3. Exchange the public token for an access token\n",
    "4. Test the access token by requesting and printing the available test accounts"
   ]
  },
  {
   "cell_type": "markdown",
   "metadata": {},
   "source": [
    "### 1. Create a client to connect to plaid"
   ]
  },
  {
   "cell_type": "code",
   "execution_count": 4,
   "metadata": {},
   "outputs": [],
   "source": [
    "INSITUTION_ID = \"ins_109508\""
   ]
  },
  {
   "cell_type": "code",
   "execution_count": 6,
   "metadata": {},
   "outputs": [],
   "source": [
    "client = plaid.Client(client_id=PLAID_CLIENT_ID, secret=PLAID_SECRET, public_key=PLAID_PUBLIC_KEY, environment='sandbox')"
   ]
  },
  {
   "cell_type": "markdown",
   "metadata": {},
   "source": [
    "### 2. Generate a public token"
   ]
  },
  {
   "cell_type": "code",
   "execution_count": 8,
   "metadata": {},
   "outputs": [
    {
     "data": {
      "text/plain": [
       "{'public_token': 'public-sandbox-86bbb53b-dd9e-49db-b84e-83c664048480',\n",
       " 'request_id': 'pwhHlnhHinC1rSk'}"
      ]
     },
     "execution_count": 8,
     "metadata": {},
     "output_type": "execute_result"
    }
   ],
   "source": [
    "INSTITUTION_ID = \"ins_109508\"\n",
    "\n",
    "create_tkn_response = client.Sandbox.public_token.create(INSTITUTION_ID, ['transactions','income','assets'])\n",
    "create_tkn_response"
   ]
  },
  {
   "cell_type": "markdown",
   "metadata": {},
   "source": [
    "### 3. Exchange the public token for an access token"
   ]
  },
  {
   "cell_type": "code",
   "execution_count": 9,
   "metadata": {},
   "outputs": [],
   "source": [
    "exchange_response = client.Item.public_token.exchange(create_tkn_response['public_token'])\n",
    "access_token = exchange_response['access_token']"
   ]
  },
  {
   "cell_type": "markdown",
   "metadata": {},
   "source": [
    "### 4. Fetch Accounts"
   ]
  },
  {
   "cell_type": "code",
   "execution_count": 14,
   "metadata": {},
   "outputs": [],
   "source": [
    "account_info = client.Accounts.get(access_token)"
   ]
  },
  {
   "cell_type": "markdown",
   "metadata": {},
   "source": [
    "---"
   ]
  },
  {
   "cell_type": "markdown",
   "metadata": {},
   "source": [
    "# Account Transactions with Plaid\n",
    "\n",
    "In this section, you will use the Plaid Python SDK to connect to the Developer Sandbox account and grab a list of transactions. You will need to complete the following steps:\n",
    "\n",
    "\n",
    "1. Use the access token to fetch the transactions for the last 90 days\n",
    "2. Print the categories for each transaction type\n",
    "3. Create a new DataFrame using the following fields from the JSON transaction data: `date, name, amount, category`. (For categories with more than one label, just use the first category label in the list)\n",
    "4. Convert the data types to the appropriate types (i.e. datetimeindex for the date and float for the amount)"
   ]
  },
  {
   "cell_type": "markdown",
   "metadata": {},
   "source": [
    "### 1. Fetch the Transactions for the last 90 days"
   ]
  },
  {
   "cell_type": "code",
   "execution_count": 15,
   "metadata": {},
   "outputs": [],
   "source": [
    "start_date = '{:%Y-%m-%d}'.format(datetime.datetime.now() + datetime.timedelta(-90))\n",
    "end_date = '{:%Y-%m-%d}'.format(datetime.datetime.now())\n",
    "\n",
    "transaction_response = client.Transactions.get(access_token,start_date,end_date)\n"
   ]
  },
  {
   "cell_type": "markdown",
   "metadata": {},
   "source": [
    "### 2. Print the categories for each transaction"
   ]
  },
  {
   "cell_type": "code",
   "execution_count": 26,
   "metadata": {},
   "outputs": [
    {
     "name": "stdout",
     "output_type": "stream",
     "text": [
      "\"Categories in each transaction: ['Travel', 'Car Service', 'Ride Share']\"\n",
      "\"Categories in each transaction: ['Food and Drink', 'Restaurants']\"\n",
      "\"Categories in each transaction: ['Payment']\"\n",
      "\"Categories in each transaction: ['Food and Drink', 'Restaurants']\"\n",
      "\"Categories in each transaction: ['Shops', 'Sporting Goods']\"\n",
      "\"Categories in each transaction: ['Payment', 'Credit Card']\"\n",
      "\"Categories in each transaction: ['Travel', 'Car Service', 'Ride Share']\"\n",
      "\"Categories in each transaction: ['Transfer', 'Debit']\"\n",
      "\"Categories in each transaction: ['Transfer', 'Deposit']\"\n",
      "\"Categories in each transaction: ['Recreation', 'Gyms and Fitness Centers']\"\n",
      "\"Categories in each transaction: ['Travel', 'Airlines and Aviation Services']\"\n",
      "\"Categories in each transaction: ['Food and Drink', 'Restaurants']\"\n",
      "\"Categories in each transaction: ['Food and Drink', 'Restaurants', 'Coffee Shop']\"\n",
      "\"Categories in each transaction: ['Food and Drink', 'Restaurants']\"\n",
      "\"Categories in each transaction: ['Transfer', 'Credit']\"\n",
      "\"Categories in each transaction: ['Travel', 'Airlines and Aviation Services']\"\n",
      "\"Categories in each transaction: ['Travel', 'Car Service', 'Ride Share']\"\n",
      "\"Categories in each transaction: ['Food and Drink', 'Restaurants']\"\n",
      "\"Categories in each transaction: ['Payment']\"\n",
      "\"Categories in each transaction: ['Food and Drink', 'Restaurants']\"\n",
      "\"Categories in each transaction: ['Shops', 'Sporting Goods']\"\n",
      "\"Categories in each transaction: ['Payment', 'Credit Card']\"\n",
      "\"Categories in each transaction: ['Travel', 'Car Service', 'Ride Share']\"\n",
      "\"Categories in each transaction: ['Transfer', 'Debit']\"\n",
      "\"Categories in each transaction: ['Transfer', 'Deposit']\"\n",
      "\"Categories in each transaction: ['Recreation', 'Gyms and Fitness Centers']\"\n",
      "\"Categories in each transaction: ['Travel', 'Airlines and Aviation Services']\"\n",
      "\"Categories in each transaction: ['Food and Drink', 'Restaurants']\"\n",
      "\"Categories in each transaction: ['Food and Drink', 'Restaurants', 'Coffee Shop']\"\n",
      "\"Categories in each transaction: ['Food and Drink', 'Restaurants']\"\n",
      "\"Categories in each transaction: ['Transfer', 'Credit']\"\n",
      "\"Categories in each transaction: ['Travel', 'Airlines and Aviation Services']\"\n",
      "\"Categories in each transaction: ['Travel', 'Car Service', 'Ride Share']\"\n",
      "\"Categories in each transaction: ['Food and Drink', 'Restaurants']\"\n",
      "\"Categories in each transaction: ['Payment']\"\n",
      "\"Categories in each transaction: ['Food and Drink', 'Restaurants']\"\n",
      "\"Categories in each transaction: ['Shops', 'Sporting Goods']\"\n",
      "\"Categories in each transaction: ['Payment', 'Credit Card']\"\n",
      "\"Categories in each transaction: ['Travel', 'Car Service', 'Ride Share']\"\n",
      "\"Categories in each transaction: ['Transfer', 'Debit']\"\n",
      "\"Categories in each transaction: ['Transfer', 'Deposit']\"\n",
      "\"Categories in each transaction: ['Recreation', 'Gyms and Fitness Centers']\"\n",
      "\"Categories in each transaction: ['Travel', 'Airlines and Aviation Services']\"\n",
      "\"Categories in each transaction: ['Food and Drink', 'Restaurants']\"\n",
      "\"Categories in each transaction: ['Food and Drink', 'Restaurants', 'Coffee Shop']\"\n",
      "\"Categories in each transaction: ['Food and Drink', 'Restaurants']\"\n",
      "\"Categories in each transaction: ['Transfer', 'Credit']\"\n",
      "\"Categories in each transaction: ['Travel', 'Airlines and Aviation Services']\"\n",
      "\"Categories in each transaction: ['Travel', 'Car Service', 'Ride Share']\"\n"
     ]
    }
   ],
   "source": [
    "for category in transaction_response['transactions']:\n",
    "        new_category = category['category'][0]\n",
    "        print(json.dumps(f\"Categories in each transaction: {category['category']}\", indent = 4))"
   ]
  },
  {
   "cell_type": "markdown",
   "metadata": {},
   "source": [
    "### 3. Create a new DataFrame using the following fields from the JSON transaction data: date, name, amount, category. \n",
    "\n",
    "(For categories with more than one label, just use the first category label in the list)"
   ]
  },
  {
   "cell_type": "code",
   "execution_count": 33,
   "metadata": {},
   "outputs": [
    {
     "data": {
      "text/html": [
       "<div>\n",
       "<style scoped>\n",
       "    .dataframe tbody tr th:only-of-type {\n",
       "        vertical-align: middle;\n",
       "    }\n",
       "\n",
       "    .dataframe tbody tr th {\n",
       "        vertical-align: top;\n",
       "    }\n",
       "\n",
       "    .dataframe thead th {\n",
       "        text-align: right;\n",
       "    }\n",
       "</style>\n",
       "<table border=\"1\" class=\"dataframe\">\n",
       "  <thead>\n",
       "    <tr style=\"text-align: right;\">\n",
       "      <th></th>\n",
       "      <th>date</th>\n",
       "      <th>name</th>\n",
       "      <th>amount</th>\n",
       "      <th>category</th>\n",
       "    </tr>\n",
       "  </thead>\n",
       "  <tbody>\n",
       "    <tr>\n",
       "      <td>0</td>\n",
       "      <td>2019-10-01</td>\n",
       "      <td>Uber 072515 SF**POOL**</td>\n",
       "      <td>6.33</td>\n",
       "      <td>Travel</td>\n",
       "    </tr>\n",
       "    <tr>\n",
       "      <td>1</td>\n",
       "      <td>2019-09-28</td>\n",
       "      <td>Tectra Inc</td>\n",
       "      <td>500.00</td>\n",
       "      <td>Food and Drink</td>\n",
       "    </tr>\n",
       "    <tr>\n",
       "      <td>2</td>\n",
       "      <td>2019-09-27</td>\n",
       "      <td>AUTOMATIC PAYMENT - THANK</td>\n",
       "      <td>2078.50</td>\n",
       "      <td>Payment</td>\n",
       "    </tr>\n",
       "    <tr>\n",
       "      <td>3</td>\n",
       "      <td>2019-09-27</td>\n",
       "      <td>KFC</td>\n",
       "      <td>500.00</td>\n",
       "      <td>Food and Drink</td>\n",
       "    </tr>\n",
       "    <tr>\n",
       "      <td>4</td>\n",
       "      <td>2019-09-27</td>\n",
       "      <td>Madison Bicycle Shop</td>\n",
       "      <td>500.00</td>\n",
       "      <td>Shops</td>\n",
       "    </tr>\n",
       "  </tbody>\n",
       "</table>\n",
       "</div>"
      ],
      "text/plain": [
       "         date                       name   amount        category\n",
       "0  2019-10-01     Uber 072515 SF**POOL**     6.33          Travel\n",
       "1  2019-09-28                 Tectra Inc   500.00  Food and Drink\n",
       "2  2019-09-27  AUTOMATIC PAYMENT - THANK  2078.50         Payment\n",
       "3  2019-09-27                        KFC   500.00  Food and Drink\n",
       "4  2019-09-27       Madison Bicycle Shop   500.00           Shops"
      ]
     },
     "execution_count": 33,
     "metadata": {},
     "output_type": "execute_result"
    }
   ],
   "source": [
    "new_df = pd.DataFrame(transaction_response['transactions'], columns=[\"date\", \"name\", \"amount\", \"category\"]) \n",
    "new_df['category'] = new_df['category'].str.get(0)\n",
    "new_df.head()"
   ]
  },
  {
   "cell_type": "markdown",
   "metadata": {},
   "source": [
    "### 4. Convert the data types to the appropriate types \n",
    "\n",
    "(i.e. datetimeindex for the date and float for the amount)"
   ]
  },
  {
   "cell_type": "code",
   "execution_count": 40,
   "metadata": {},
   "outputs": [
    {
     "data": {
      "text/html": [
       "<div>\n",
       "<style scoped>\n",
       "    .dataframe tbody tr th:only-of-type {\n",
       "        vertical-align: middle;\n",
       "    }\n",
       "\n",
       "    .dataframe tbody tr th {\n",
       "        vertical-align: top;\n",
       "    }\n",
       "\n",
       "    .dataframe thead th {\n",
       "        text-align: right;\n",
       "    }\n",
       "</style>\n",
       "<table border=\"1\" class=\"dataframe\">\n",
       "  <thead>\n",
       "    <tr style=\"text-align: right;\">\n",
       "      <th></th>\n",
       "      <th>Name</th>\n",
       "      <th>Amount</th>\n",
       "      <th>Category</th>\n",
       "    </tr>\n",
       "    <tr>\n",
       "      <th>date</th>\n",
       "      <th></th>\n",
       "      <th></th>\n",
       "      <th></th>\n",
       "    </tr>\n",
       "  </thead>\n",
       "  <tbody>\n",
       "    <tr>\n",
       "      <td>2019-10-01</td>\n",
       "      <td>Uber 072515 SF**POOL**</td>\n",
       "      <td>6.33</td>\n",
       "      <td>Travel</td>\n",
       "    </tr>\n",
       "    <tr>\n",
       "      <td>2019-09-28</td>\n",
       "      <td>Tectra Inc</td>\n",
       "      <td>500.00</td>\n",
       "      <td>Food and Drink</td>\n",
       "    </tr>\n",
       "    <tr>\n",
       "      <td>2019-09-27</td>\n",
       "      <td>AUTOMATIC PAYMENT - THANK</td>\n",
       "      <td>2078.50</td>\n",
       "      <td>Payment</td>\n",
       "    </tr>\n",
       "    <tr>\n",
       "      <td>2019-09-27</td>\n",
       "      <td>KFC</td>\n",
       "      <td>500.00</td>\n",
       "      <td>Food and Drink</td>\n",
       "    </tr>\n",
       "    <tr>\n",
       "      <td>2019-09-27</td>\n",
       "      <td>Madison Bicycle Shop</td>\n",
       "      <td>500.00</td>\n",
       "      <td>Shops</td>\n",
       "    </tr>\n",
       "  </tbody>\n",
       "</table>\n",
       "</div>"
      ],
      "text/plain": [
       "                                 Name   Amount        Category\n",
       "date                                                          \n",
       "2019-10-01     Uber 072515 SF**POOL**     6.33          Travel\n",
       "2019-09-28                 Tectra Inc   500.00  Food and Drink\n",
       "2019-09-27  AUTOMATIC PAYMENT - THANK  2078.50         Payment\n",
       "2019-09-27                        KFC   500.00  Food and Drink\n",
       "2019-09-27       Madison Bicycle Shop   500.00           Shops"
      ]
     },
     "execution_count": 40,
     "metadata": {},
     "output_type": "execute_result"
    }
   ],
   "source": [
    "new_df['date']= pd.to_datetime(new_df['date']) \n",
    "df3 = new_df.set_index('date')\n",
    "columns = [\"Name\", \"Amount\", \"Category\"]\n",
    "df3.columns = columns\n",
    "df3.head()"
   ]
  },
  {
   "cell_type": "code",
   "execution_count": 42,
   "metadata": {},
   "outputs": [
    {
     "data": {
      "text/plain": [
       "Name         object\n",
       "Amount      float64\n",
       "Category     object\n",
       "dtype: object"
      ]
     },
     "execution_count": 42,
     "metadata": {},
     "output_type": "execute_result"
    }
   ],
   "source": [
    "df3.dtypes"
   ]
  },
  {
   "cell_type": "markdown",
   "metadata": {},
   "source": [
    "---"
   ]
  },
  {
   "cell_type": "markdown",
   "metadata": {},
   "source": [
    "# Income Analysis with Plaid\n",
    "\n",
    "In this section, you will use the Plaid Sandbox to complete the following:\n",
    "1. Determine the previous year's gross income and print the results\n",
    "2. Determine the current monthly income and print the results\n",
    "3. Determine the projected yearly income and print the results"
   ]
  },
  {
   "cell_type": "code",
   "execution_count": 37,
   "metadata": {},
   "outputs": [
    {
     "data": {
      "text/plain": [
       "{'income_streams': [{'confidence': 0.99,\n",
       "   'days': 690,\n",
       "   'monthly_income': 500,\n",
       "   'name': 'UNITED AIRLINES'}],\n",
       " 'last_year_income': 6000,\n",
       " 'last_year_income_before_tax': 7285,\n",
       " 'max_number_of_overlapping_income_streams': 1,\n",
       " 'number_of_income_streams': 1,\n",
       " 'projected_yearly_income': 6085,\n",
       " 'projected_yearly_income_before_tax': 7389}"
      ]
     },
     "execution_count": 37,
     "metadata": {},
     "output_type": "execute_result"
    }
   ],
   "source": [
    "transaction_response = client.Income.get(access_token)\n",
    "transaction_response[\"income\"]"
   ]
  },
  {
   "cell_type": "code",
   "execution_count": 55,
   "metadata": {},
   "outputs": [
    {
     "name": "stdout",
     "output_type": "stream",
     "text": [
      "7285\n"
     ]
    }
   ],
   "source": [
    "#Last Year's Gross Income\n",
    "last_year_income=transaction_response['income']['last_year_income_before_tax']\n",
    "print(last_year_income)"
   ]
  },
  {
   "cell_type": "code",
   "execution_count": 54,
   "metadata": {},
   "outputs": [
    {
     "name": "stdout",
     "output_type": "stream",
     "text": [
      "500\n"
     ]
    }
   ],
   "source": [
    "#Current Monthly Income\n",
    "monthly_income=transaction_response['income']['income_streams'][0]['monthly_income']\n",
    "print(monthly_income)"
   ]
  },
  {
   "cell_type": "code",
   "execution_count": 53,
   "metadata": {},
   "outputs": [
    {
     "name": "stdout",
     "output_type": "stream",
     "text": [
      "6085\n"
     ]
    }
   ],
   "source": [
    "#Projected Yearly Income\n",
    "projected_yearly_income = transaction_response['income']['projected_yearly_income']\n",
    "print(projected_yearly_income)"
   ]
  },
  {
   "cell_type": "markdown",
   "metadata": {},
   "source": [
    "---"
   ]
  },
  {
   "cell_type": "markdown",
   "metadata": {},
   "source": [
    "# Budget Analysis\n",
    "In this section, you will use the transactions DataFrame to analyze the customer's budget\n",
    "\n",
    "1. Calculate the total spending per category and print the results (Hint: groupby or count transactions per category)\n",
    "2. Generate a bar chart with the number of transactions for each category \n",
    "3. Calulate the expenses per month\n",
    "4. Plot the total expenses per month"
   ]
  },
  {
   "cell_type": "markdown",
   "metadata": {},
   "source": [
    "### Calculate the expenses per category"
   ]
  },
  {
   "cell_type": "code",
   "execution_count": 64,
   "metadata": {},
   "outputs": [
    {
     "data": {
      "text/plain": [
       "<matplotlib.axes._subplots.AxesSubplot at 0x16f87b8b0b8>"
      ]
     },
     "execution_count": 64,
     "metadata": {},
     "output_type": "execute_result"
    },
    {
     "data": {
      "image/png": "[encoded data removed]",
      "text/plain": [
       "<Figure size 432x288 with 1 Axes>"
      ]
     },
     "metadata": {},
     "output_type": "display_data"
    }
   ],
   "source": [
    "df3.Category.unique()\n",
    "expenses_category = df3.groupby('Category').agg({\"Amount\": \"sum\"})\n",
    "expenses_category\n",
    "expenses_category.plot(kind='pie', x='category', y='Amount')"
   ]
  },
  {
   "cell_type": "code",
   "execution_count": 65,
   "metadata": {},
   "outputs": [
    {
     "data": {
      "text/plain": [
       "<matplotlib.axes._subplots.AxesSubplot at 0x16f87f6c8d0>"
      ]
     },
     "execution_count": 65,
     "metadata": {},
     "output_type": "execute_result"
    },
    {
     "data": {
      "image/png": "[encoded data removed]",
      "text/plain": [
       "<Figure size 432x288 with 1 Axes>"
      ]
     },
     "metadata": {
      "needs_background": "light"
     },
     "output_type": "display_data"
    }
   ],
   "source": [
    "\n",
    "number_transactions = df3.groupby('Category').count().drop(['Name'], axis=1)\n",
    "number_transactions\n",
    "number_transactions.plot(kind='bar')"
   ]
  },
  {
   "cell_type": "markdown",
   "metadata": {},
   "source": [
    "### Calculate the expenses per month"
   ]
  },
  {
   "cell_type": "code",
   "execution_count": 69,
   "metadata": {},
   "outputs": [
    {
     "data": {
      "text/plain": [
       "<matplotlib.axes._subplots.AxesSubplot at 0x16f8806a908>"
      ]
     },
     "execution_count": 69,
     "metadata": {},
     "output_type": "execute_result"
    },
    {
     "data": {
      "image/png": "[encoded data removed]",
      "text/plain": [
       "<Figure size 432x288 with 1 Axes>"
      ]
     },
     "metadata": {
      "needs_background": "light"
     },
     "output_type": "display_data"
    }
   ],
   "source": [
    "month = df3.groupby(by=[df3.index.month]).agg({\"Amount\": \"sum\"})\n",
    "month.plot(kind=\"bar\")"
   ]
  },
  {
   "cell_type": "code",
   "execution_count": null,
   "metadata": {},
   "outputs": [],
   "source": []
  }
 ],
 "metadata": {
  "kernel_info": {
   "name": "dev"
  },
  "kernelspec": {
   "display_name": "Python 3",
   "language": "python",
   "name": "python3"
  },
  "language_info": {
   "codemirror_mode": {
    "name": "ipython",
    "version": 3
   },
   "file_extension": ".py",
   "mimetype": "text/x-python",
   "name": "python",
   "nbconvert_exporter": "python",
   "pygments_lexer": "ipython3",
   "version": "3.7.3"
  },
  "nteract": {
   "version": "0.12.3"
  }
 },
 "nbformat": 4,
 "nbformat_minor": 4
}
