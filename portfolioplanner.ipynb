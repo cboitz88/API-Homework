{
 "cells": [
  {
   "cell_type": "code",
   "execution_count": 53,
   "metadata": {},
   "outputs": [],
   "source": [
    "import numpy as np\n",
    "import pandas as pd\n",
    "from datetime import datetime, timedelta\n",
    "import matplotlib.pyplot as plt\n",
    "\n",
    "%matplotlib inline"
   ]
  },
  {
   "cell_type": "code",
   "execution_count": 54,
   "metadata": {},
   "outputs": [],
   "source": [
    "np.random.seed(42)"
   ]
  },
  {
   "cell_type": "code",
   "execution_count": 55,
   "metadata": {},
   "outputs": [
    {
     "name": "stdout",
     "output_type": "stream",
     "text": [
      "<class 'str'>\n"
     ]
    },
    {
     "data": {
      "text/plain": [
       "'a'"
      ]
     },
     "execution_count": 55,
     "metadata": {},
     "output_type": "execute_result"
    }
   ],
   "source": [
    "import os\n",
    "key=os.getenv(\"IEX_PUBLIC_KEY\")\n",
    "print(type(key))\n",
    "key[-2]"
   ]
  },
  {
   "cell_type": "markdown",
   "metadata": {},
   "source": [
    "# Portfolio Planner\n",
    "\n",
    "In this activity, you will use the iedfinance api to grab historical data for a 60/40 portfolio using `SPY` to represent the stock portion and `AGG` to represent the bonds."
   ]
  },
  {
   "cell_type": "code",
   "execution_count": 56,
   "metadata": {},
   "outputs": [],
   "source": [
    "from iexfinance.stocks import get_historical_data\n",
    "from iexfinance.refdata import get_symbols\n",
    "import iexfinance as iex"
   ]
  },
  {
   "cell_type": "markdown",
   "metadata": {},
   "source": [
    "# Data Collection\n",
    "\n",
    "In this step, you will need to use the IEX api to fetch closing prices for the `SPY` and `AGG` tickers. Save the results as a pandas DataFrame"
   ]
  },
  {
   "cell_type": "code",
   "execution_count": 57,
   "metadata": {},
   "outputs": [
    {
     "data": {
      "text/html": [
       "<div>\n",
       "<style scoped>\n",
       "    .dataframe tbody tr th:only-of-type {\n",
       "        vertical-align: middle;\n",
       "    }\n",
       "\n",
       "    .dataframe tbody tr th {\n",
       "        vertical-align: top;\n",
       "    }\n",
       "\n",
       "    .dataframe thead tr th {\n",
       "        text-align: left;\n",
       "    }\n",
       "\n",
       "    .dataframe thead tr:last-of-type th {\n",
       "        text-align: right;\n",
       "    }\n",
       "</style>\n",
       "<table border=\"1\" class=\"dataframe\">\n",
       "  <thead>\n",
       "    <tr>\n",
       "      <th></th>\n",
       "      <th>SPY</th>\n",
       "      <th>AGG</th>\n",
       "    </tr>\n",
       "    <tr>\n",
       "      <th></th>\n",
       "      <th>close</th>\n",
       "      <th>close</th>\n",
       "    </tr>\n",
       "    <tr>\n",
       "      <th>date</th>\n",
       "      <th></th>\n",
       "      <th></th>\n",
       "    </tr>\n",
       "  </thead>\n",
       "  <tbody>\n",
       "    <tr>\n",
       "      <td>2014-10-03</td>\n",
       "      <td>196.52</td>\n",
       "      <td>109.30</td>\n",
       "    </tr>\n",
       "    <tr>\n",
       "      <td>2014-10-06</td>\n",
       "      <td>196.29</td>\n",
       "      <td>109.40</td>\n",
       "    </tr>\n",
       "    <tr>\n",
       "      <td>2014-10-07</td>\n",
       "      <td>193.26</td>\n",
       "      <td>109.82</td>\n",
       "    </tr>\n",
       "    <tr>\n",
       "      <td>2014-10-08</td>\n",
       "      <td>196.64</td>\n",
       "      <td>110.13</td>\n",
       "    </tr>\n",
       "    <tr>\n",
       "      <td>2014-10-09</td>\n",
       "      <td>192.74</td>\n",
       "      <td>109.91</td>\n",
       "    </tr>\n",
       "  </tbody>\n",
       "</table>\n",
       "</div>"
      ],
      "text/plain": [
       "               SPY     AGG\n",
       "             close   close\n",
       "date                      \n",
       "2014-10-03  196.52  109.30\n",
       "2014-10-06  196.29  109.40\n",
       "2014-10-07  193.26  109.82\n",
       "2014-10-08  196.64  110.13\n",
       "2014-10-09  192.74  109.91"
      ]
     },
     "execution_count": 57,
     "metadata": {},
     "output_type": "execute_result"
    }
   ],
   "source": [
    "list_of_tickers = [\"SPY\", \"AGG\"]\n",
    "ticker = \"SPY\"\n",
    "ticker2 = \"AGG\"\n",
    "\n",
    "end_date = datetime.now()\n",
    "start_date = end_date + timedelta(-1825)\n",
    "#WILL ONLY GIVE US 5 YEARS OF DATA 365*5=1825\n",
    "df = get_historical_data(list_of_tickers, start_date, end_date,  output_format='pandas',token=key)\n",
    "df.drop(columns=['open', 'high', 'low', 'volume'], level=1, inplace=True)\n",
    "df.head()"
   ]
  },
  {
   "cell_type": "markdown",
   "metadata": {},
   "source": [
    "# Monte Carlo Simulation\n",
    "\n",
    "In this step, you will run Monte Carlo Simulations for your portfolio to model portfolio performance at different retirement ages. \n",
    "\n",
    "Complete the following steps:\n",
    "1. Calculate the daily returns for the SPY and AGG closing prices.\n",
    "2. Calculate volatility for both the SPY and AGG closing prices.\n",
    "3. Find the last day's closing price for both stocks and save those as variables.\n",
    "4. Run a Monte Carlo Simulation of at least 100 iterations and generate at least 20 years of closing prices\n",
    "\n",
    "### HINTS:\n",
    "There are 252 trading days per year, so the number of records to generate for each Monte Carlo run will be 252 days * 20 years"
   ]
  },
  {
   "cell_type": "code",
   "execution_count": 58,
   "metadata": {},
   "outputs": [
    {
     "data": {
      "text/html": [
       "<div>\n",
       "<style scoped>\n",
       "    .dataframe tbody tr th:only-of-type {\n",
       "        vertical-align: middle;\n",
       "    }\n",
       "\n",
       "    .dataframe tbody tr th {\n",
       "        vertical-align: top;\n",
       "    }\n",
       "\n",
       "    .dataframe thead tr th {\n",
       "        text-align: left;\n",
       "    }\n",
       "\n",
       "    .dataframe thead tr:last-of-type th {\n",
       "        text-align: right;\n",
       "    }\n",
       "</style>\n",
       "<table border=\"1\" class=\"dataframe\">\n",
       "  <thead>\n",
       "    <tr>\n",
       "      <th></th>\n",
       "      <th>SPY</th>\n",
       "      <th>AGG</th>\n",
       "    </tr>\n",
       "    <tr>\n",
       "      <th></th>\n",
       "      <th>close</th>\n",
       "      <th>close</th>\n",
       "    </tr>\n",
       "    <tr>\n",
       "      <th>date</th>\n",
       "      <th></th>\n",
       "      <th></th>\n",
       "    </tr>\n",
       "  </thead>\n",
       "  <tbody>\n",
       "    <tr>\n",
       "      <td>2014-10-03</td>\n",
       "      <td>NaN</td>\n",
       "      <td>NaN</td>\n",
       "    </tr>\n",
       "    <tr>\n",
       "      <td>2014-10-06</td>\n",
       "      <td>-0.001170</td>\n",
       "      <td>0.000915</td>\n",
       "    </tr>\n",
       "    <tr>\n",
       "      <td>2014-10-07</td>\n",
       "      <td>-0.015436</td>\n",
       "      <td>0.003839</td>\n",
       "    </tr>\n",
       "    <tr>\n",
       "      <td>2014-10-08</td>\n",
       "      <td>0.017489</td>\n",
       "      <td>0.002823</td>\n",
       "    </tr>\n",
       "    <tr>\n",
       "      <td>2014-10-09</td>\n",
       "      <td>-0.019833</td>\n",
       "      <td>-0.001998</td>\n",
       "    </tr>\n",
       "  </tbody>\n",
       "</table>\n",
       "</div>"
      ],
      "text/plain": [
       "                 SPY       AGG\n",
       "               close     close\n",
       "date                          \n",
       "2014-10-03       NaN       NaN\n",
       "2014-10-06 -0.001170  0.000915\n",
       "2014-10-07 -0.015436  0.003839\n",
       "2014-10-08  0.017489  0.002823\n",
       "2014-10-09 -0.019833 -0.001998"
      ]
     },
     "execution_count": 58,
     "metadata": {},
     "output_type": "execute_result"
    }
   ],
   "source": [
    "#daily returns\n",
    "daily_returns = df.pct_change()\n",
    "daily_returns.head()"
   ]
  },
  {
   "cell_type": "code",
   "execution_count": 59,
   "metadata": {},
   "outputs": [
    {
     "data": {
      "text/plain": [
       "2.9414517849512197e-05"
      ]
     },
     "execution_count": 59,
     "metadata": {},
     "output_type": "execute_result"
    }
   ],
   "source": [
    "#Avg daily return\n",
    "avg_daily_return_spy = daily_returns.mean()['SPY']['close']\n",
    "avg_daily_return_agg = daily_returns.mean()['AGG']['close']\n",
    "avg_daily_return_agg"
   ]
  },
  {
   "cell_type": "code",
   "execution_count": 60,
   "metadata": {},
   "outputs": [
    {
     "data": {
      "text/plain": [
       "0.00203174401139897"
      ]
     },
     "execution_count": 60,
     "metadata": {},
     "output_type": "execute_result"
    }
   ],
   "source": [
    "#volatility\n",
    "std_dev_daily_return_spy = daily_returns.std()['SPY']['close']\n",
    "std_dev_daily_return_agg = daily_returns.std()['AGG']['close']\n",
    "std_dev_daily_return_agg"
   ]
  },
  {
   "cell_type": "code",
   "execution_count": 61,
   "metadata": {},
   "outputs": [],
   "source": [
    "#Last day's closing price\n",
    "spy_last_price = df['SPY']['close'][-1]\n",
    "agg_last_price = df['AGG']['close'][-1]"
   ]
  },
  {
   "cell_type": "code",
   "execution_count": 62,
   "metadata": {},
   "outputs": [],
   "source": [
    "# Setup the Monte Carlo Parameters\n",
    "num_simulations = 100\n",
    "number_trading_days = 252 * 30\n",
    "monte_carlo = pd.DataFrame()"
   ]
  },
  {
   "cell_type": "code",
   "execution_count": 63,
   "metadata": {},
   "outputs": [
    {
     "data": {
      "text/html": [
       "<div>\n",
       "<style scoped>\n",
       "    .dataframe tbody tr th:only-of-type {\n",
       "        vertical-align: middle;\n",
       "    }\n",
       "\n",
       "    .dataframe tbody tr th {\n",
       "        vertical-align: top;\n",
       "    }\n",
       "\n",
       "    .dataframe thead th {\n",
       "        text-align: right;\n",
       "    }\n",
       "</style>\n",
       "<table border=\"1\" class=\"dataframe\">\n",
       "  <thead>\n",
       "    <tr style=\"text-align: right;\">\n",
       "      <th></th>\n",
       "      <th>0</th>\n",
       "      <th>1</th>\n",
       "      <th>2</th>\n",
       "      <th>3</th>\n",
       "      <th>4</th>\n",
       "      <th>5</th>\n",
       "      <th>6</th>\n",
       "      <th>7</th>\n",
       "      <th>8</th>\n",
       "      <th>9</th>\n",
       "      <th>...</th>\n",
       "      <th>90</th>\n",
       "      <th>91</th>\n",
       "      <th>92</th>\n",
       "      <th>93</th>\n",
       "      <th>94</th>\n",
       "      <th>95</th>\n",
       "      <th>96</th>\n",
       "      <th>97</th>\n",
       "      <th>98</th>\n",
       "      <th>99</th>\n",
       "    </tr>\n",
       "  </thead>\n",
       "  <tbody>\n",
       "    <tr>\n",
       "      <td>0</td>\n",
       "      <td>1.000000</td>\n",
       "      <td>1.000000</td>\n",
       "      <td>1.000000</td>\n",
       "      <td>1.000000</td>\n",
       "      <td>1.000000</td>\n",
       "      <td>1.000000</td>\n",
       "      <td>1.000000</td>\n",
       "      <td>1.000000</td>\n",
       "      <td>1.000000</td>\n",
       "      <td>1.000000</td>\n",
       "      <td>...</td>\n",
       "      <td>1.000000</td>\n",
       "      <td>1.000000</td>\n",
       "      <td>1.000000</td>\n",
       "      <td>1.000000</td>\n",
       "      <td>1.000000</td>\n",
       "      <td>1.000000</td>\n",
       "      <td>1.000000</td>\n",
       "      <td>1.000000</td>\n",
       "      <td>1.000000</td>\n",
       "      <td>1.000000</td>\n",
       "    </tr>\n",
       "    <tr>\n",
       "      <td>1</td>\n",
       "      <td>1.002687</td>\n",
       "      <td>0.995008</td>\n",
       "      <td>0.992379</td>\n",
       "      <td>0.999147</td>\n",
       "      <td>1.005459</td>\n",
       "      <td>1.007288</td>\n",
       "      <td>1.009945</td>\n",
       "      <td>0.995318</td>\n",
       "      <td>1.001606</td>\n",
       "      <td>0.998848</td>\n",
       "      <td>...</td>\n",
       "      <td>1.001001</td>\n",
       "      <td>1.001470</td>\n",
       "      <td>0.994473</td>\n",
       "      <td>1.001611</td>\n",
       "      <td>0.992293</td>\n",
       "      <td>0.997064</td>\n",
       "      <td>1.008991</td>\n",
       "      <td>1.009687</td>\n",
       "      <td>1.007438</td>\n",
       "      <td>1.010291</td>\n",
       "    </tr>\n",
       "    <tr>\n",
       "      <td>2</td>\n",
       "      <td>1.007518</td>\n",
       "      <td>0.998796</td>\n",
       "      <td>0.991146</td>\n",
       "      <td>0.997927</td>\n",
       "      <td>1.008732</td>\n",
       "      <td>0.997042</td>\n",
       "      <td>1.003616</td>\n",
       "      <td>0.983564</td>\n",
       "      <td>1.000399</td>\n",
       "      <td>1.007757</td>\n",
       "      <td>...</td>\n",
       "      <td>0.996905</td>\n",
       "      <td>1.004897</td>\n",
       "      <td>0.987149</td>\n",
       "      <td>0.996495</td>\n",
       "      <td>0.990874</td>\n",
       "      <td>0.992527</td>\n",
       "      <td>1.001926</td>\n",
       "      <td>1.010515</td>\n",
       "      <td>1.005575</td>\n",
       "      <td>1.014117</td>\n",
       "    </tr>\n",
       "    <tr>\n",
       "      <td>3</td>\n",
       "      <td>1.006331</td>\n",
       "      <td>0.998522</td>\n",
       "      <td>0.994649</td>\n",
       "      <td>0.991237</td>\n",
       "      <td>1.007724</td>\n",
       "      <td>1.000220</td>\n",
       "      <td>1.007420</td>\n",
       "      <td>0.976849</td>\n",
       "      <td>0.999827</td>\n",
       "      <td>1.016176</td>\n",
       "      <td>...</td>\n",
       "      <td>1.002799</td>\n",
       "      <td>1.001997</td>\n",
       "      <td>0.979661</td>\n",
       "      <td>1.001530</td>\n",
       "      <td>0.987418</td>\n",
       "      <td>0.993144</td>\n",
       "      <td>0.996135</td>\n",
       "      <td>1.011156</td>\n",
       "      <td>1.006911</td>\n",
       "      <td>1.021651</td>\n",
       "    </tr>\n",
       "    <tr>\n",
       "      <td>4</td>\n",
       "      <td>1.015420</td>\n",
       "      <td>1.001300</td>\n",
       "      <td>0.990314</td>\n",
       "      <td>0.997140</td>\n",
       "      <td>1.008892</td>\n",
       "      <td>0.994355</td>\n",
       "      <td>1.005621</td>\n",
       "      <td>0.973653</td>\n",
       "      <td>1.008069</td>\n",
       "      <td>1.004649</td>\n",
       "      <td>...</td>\n",
       "      <td>1.008064</td>\n",
       "      <td>0.999822</td>\n",
       "      <td>0.978613</td>\n",
       "      <td>1.005421</td>\n",
       "      <td>0.980420</td>\n",
       "      <td>0.995345</td>\n",
       "      <td>0.987042</td>\n",
       "      <td>1.012059</td>\n",
       "      <td>1.010429</td>\n",
       "      <td>1.016700</td>\n",
       "    </tr>\n",
       "  </tbody>\n",
       "</table>\n",
       "<p>5 rows × 100 columns</p>\n",
       "</div>"
      ],
      "text/plain": [
       "         0         1         2         3         4         5         6   \\\n",
       "0  1.000000  1.000000  1.000000  1.000000  1.000000  1.000000  1.000000   \n",
       "1  1.002687  0.995008  0.992379  0.999147  1.005459  1.007288  1.009945   \n",
       "2  1.007518  0.998796  0.991146  0.997927  1.008732  0.997042  1.003616   \n",
       "3  1.006331  0.998522  0.994649  0.991237  1.007724  1.000220  1.007420   \n",
       "4  1.015420  1.001300  0.990314  0.997140  1.008892  0.994355  1.005621   \n",
       "\n",
       "         7         8         9   ...        90        91        92        93  \\\n",
       "0  1.000000  1.000000  1.000000  ...  1.000000  1.000000  1.000000  1.000000   \n",
       "1  0.995318  1.001606  0.998848  ...  1.001001  1.001470  0.994473  1.001611   \n",
       "2  0.983564  1.000399  1.007757  ...  0.996905  1.004897  0.987149  0.996495   \n",
       "3  0.976849  0.999827  1.016176  ...  1.002799  1.001997  0.979661  1.001530   \n",
       "4  0.973653  1.008069  1.004649  ...  1.008064  0.999822  0.978613  1.005421   \n",
       "\n",
       "         94        95        96        97        98        99  \n",
       "0  1.000000  1.000000  1.000000  1.000000  1.000000  1.000000  \n",
       "1  0.992293  0.997064  1.008991  1.009687  1.007438  1.010291  \n",
       "2  0.990874  0.992527  1.001926  1.010515  1.005575  1.014117  \n",
       "3  0.987418  0.993144  0.996135  1.011156  1.006911  1.021651  \n",
       "4  0.980420  0.995345  0.987042  1.012059  1.010429  1.016700  \n",
       "\n",
       "[5 rows x 100 columns]"
      ]
     },
     "execution_count": 63,
     "metadata": {},
     "output_type": "execute_result"
    }
   ],
   "source": [
    "# Run the Monte Carlo Simulation\n",
    "simulated_price_df = pd.DataFrame()\n",
    "portfolio_cumulative_returns = pd.DataFrame()\n",
    "# Run the simulation of projecting stock prices for the next trading year\n",
    "for n in range(num_simulations):\n",
    "    # Initialize the simulated prices list with the last closing price of `SPY` and `AGG`\n",
    "    simulated_spy_prices = [spy_last_price]\n",
    "    simulated_agg_prices = [agg_last_price]\n",
    "    # Simulate the returns for 252 days\n",
    "    for i in range(number_trading_days):\n",
    "         # Calculate the simulated price using the last price within the list\n",
    "        simulated_spy_price = simulated_spy_prices[-1] * (1 + np.random.normal(avg_daily_return_spy, std_dev_daily_return_spy))\n",
    "        simulated_agg_price = simulated_agg_prices[-1] * (1 + np.random.normal(avg_daily_return_agg, std_dev_daily_return_agg))\n",
    "        \n",
    "        # Append the simulated price to the list\n",
    "        simulated_spy_prices.append(simulated_spy_price)\n",
    "        simulated_agg_prices.append(simulated_agg_price)\n",
    "        \n",
    "  # Append a simulated prices of each simulation to DataFrame\n",
    "    simulated_price_df[\"SPY prices\"] = pd.Series(simulated_spy_prices)\n",
    "    simulated_price_df[\"AGG prices\"] = pd.Series(simulated_agg_prices)\n",
    "    \n",
    "     # Calculate the daily returns of simulated prices\n",
    "    simulated_daily_returns = simulated_price_df.pct_change()\n",
    "    \n",
    "     # Set the portfolio weights (60% JNJ; 40% MU)\n",
    "    weights = [0.60, 0.40]\n",
    "    \n",
    "      # Use the `dot` function with the weights to multiply weights with each column's simulated daily returns\n",
    "    portfolio_daily_returns = simulated_daily_returns.dot(weights)\n",
    "    \n",
    "     # Calculate the normalized, cumulative return series\n",
    "    portfolio_cumulative_returns[n] = (1 + portfolio_daily_returns.fillna(0)).cumprod()\n",
    "    \n",
    "# Print records from the DataFrame\n",
    "portfolio_cumulative_returns.head()\n",
    "    "
   ]
  },
  {
   "cell_type": "code",
   "execution_count": 64,
   "metadata": {},
   "outputs": [
    {
     "data": {
      "text/plain": [
       "<matplotlib.axes._subplots.AxesSubplot at 0x186a310c320>"
      ]
     },
     "execution_count": 64,
     "metadata": {},
     "output_type": "execute_result"
    },
    {
     "data": {
      "image/png": "[encoded data removed]",
      "text/plain": [
       "<Figure size 432x288 with 1 Axes>"
      ]
     },
     "metadata": {
      "needs_background": "light"
     },
     "output_type": "display_data"
    }
   ],
   "source": [
    "# Visualize the Simulation\n",
    "# Use the `plot` function to plot `100` simulations of the potential trajectories of the portfolio based on 252 trading days\n",
    "plot_title = f\"{n+1} Simulations of Cumulative Portfolio Return Trajectories Over the Next 252 Trading Days\"\n",
    "portfolio_cumulative_returns.plot(legend=None, title=plot_title)"
   ]
  },
  {
   "cell_type": "code",
   "execution_count": 65,
   "metadata": {},
   "outputs": [
    {
     "data": {
      "text/plain": [
       "0    5.798898\n",
       "1    4.700551\n",
       "2    6.651307\n",
       "3    7.074038\n",
       "4    6.328687\n",
       "Name: 7560, dtype: float64"
      ]
     },
     "execution_count": 65,
     "metadata": {},
     "output_type": "execute_result"
    }
   ],
   "source": [
    "# Select the last row for the cumulative returns (cumulative returns at 30 years)\n",
    "ending_cumulative_returns = portfolio_cumulative_returns.iloc[-1, :]\n",
    "ending_cumulative_returns.head()"
   ]
  },
  {
   "cell_type": "code",
   "execution_count": 66,
   "metadata": {},
   "outputs": [
    {
     "data": {
      "text/plain": [
       "95    3.716366\n",
       "96    4.349244\n",
       "97    6.712638\n",
       "98    6.500778\n",
       "99    4.130432\n",
       "Name: 7560, dtype: float64"
      ]
     },
     "execution_count": 66,
     "metadata": {},
     "output_type": "execute_result"
    }
   ],
   "source": [
    "# Select the last row for the cumulative returns (cumulative returns at 20 years)\n",
    "ending_cumulative_returns20 = portfolio_cumulative_returns.iloc[-1, :]\n",
    "ending_cumulative_returns20.tail()"
   ]
  },
  {
   "cell_type": "code",
   "execution_count": 67,
   "metadata": {},
   "outputs": [
    {
     "data": {
      "text/plain": [
       "0.05    2.204876\n",
       "0.95    9.678197\n",
       "Name: 7560, dtype: float64"
      ]
     },
     "execution_count": 67,
     "metadata": {},
     "output_type": "execute_result"
    }
   ],
   "source": [
    "# Display the 90% confidence interval for the ending returns\n",
    "ending_cumulative_returns.value_counts(bins=10) / len(ending_cumulative_returns)\n",
    "confidence_interval = ending_cumulative_returns.quantile(q=[0.05, 0.95])\n",
    "confidence_interval"
   ]
  },
  {
   "cell_type": "code",
   "execution_count": 68,
   "metadata": {},
   "outputs": [
    {
     "data": {
      "text/plain": [
       "<matplotlib.lines.Line2D at 0x186a3233ef0>"
      ]
     },
     "execution_count": 68,
     "metadata": {},
     "output_type": "execute_result"
    },
    {
     "data": {
      "image/png": "[encoded data removed]",
      "text/plain": [
       "<Figure size 432x288 with 1 Axes>"
      ]
     },
     "metadata": {
      "needs_background": "light"
     },
     "output_type": "display_data"
    }
   ],
   "source": [
    "# Visualize the distribution of the ending returns\n",
    "plt.figure();\n",
    "ending_cumulative_returns.plot(kind='hist', density=True, bins=20)\n",
    "plt.axvline(confidence_interval.iloc[0], color='r')\n",
    "plt.axvline(confidence_interval.iloc[1], color='r')"
   ]
  },
  {
   "cell_type": "markdown",
   "metadata": {},
   "source": [
    "---"
   ]
  },
  {
   "cell_type": "markdown",
   "metadata": {},
   "source": [
    "# Retirement Analysis\n",
    "\n",
    "In this section, you will use the monte carlo model to answer the following retirement planning questions:\n",
    "\n",
    "1. What are the expected cumulative returns at 30 years for the 10th, 50th, and 90th percentiles?\n",
    "2. Given an initial investment of `$20,000`, what is the expected portfolio return in dollars at the 10th, 50th, and 90th percentiles?\n",
    "3. Given the current projected annual income from the Plaid analysis, will a 4% withdraw rate from the retirement portfolio meet or exceed that value at the 10th percentile?\n",
    "4. How would a 50% increase in the initial investment amount affect the 4% retirement withdrawal?"
   ]
  },
  {
   "cell_type": "markdown",
   "metadata": {},
   "source": [
    "### What are the expected cumulative returns at 30 years for the 10th, 50th, and 90th percentiles?"
   ]
  },
  {
   "cell_type": "code",
   "execution_count": 69,
   "metadata": {},
   "outputs": [
    {
     "name": "stdout",
     "output_type": "stream",
     "text": [
      "2.4823177258346303\n",
      "4.715509551574442\n",
      "7.55178193793942\n"
     ]
    }
   ],
   "source": [
    "# YOUR CODE HERE\n",
    "p10 = np.percentile(ending_cumulative_returns, 10)\n",
    "p50 = np.percentile(ending_cumulative_returns, 50)\n",
    "p90 = np.percentile(ending_cumulative_returns, 90)\n",
    "print(p10)\n",
    "print(p50)\n",
    "print(p90)"
   ]
  },
  {
   "cell_type": "markdown",
   "metadata": {},
   "source": [
    "### Given an initial investment of `$20,000`, what is the expected portfolio return in dollars at the 10th, 50th, and 90th percentiles?"
   ]
  },
  {
   "cell_type": "code",
   "execution_count": 70,
   "metadata": {},
   "outputs": [
    {
     "name": "stdout",
     "output_type": "stream",
     "text": [
      "69646.3545166926\n",
      "114310.19103148884\n",
      "171035.6387587884\n"
     ]
    }
   ],
   "source": [
    "original = 20000\n",
    "\n",
    "portfolio_10 = original + (original * p10)\n",
    "\n",
    "portfolio_50 = original + (original * p50)\n",
    "\n",
    "portfolio_90 = original + (original * p90)\n",
    "\n",
    "print(portfolio_10)\n",
    "print(portfolio_50)\n",
    "print(portfolio_90)"
   ]
  },
  {
   "cell_type": "markdown",
   "metadata": {},
   "source": [
    "### Given the current projected annual income from the Plaid analysis, will a 4% withdraw rate from the retirement portfolio meet or exceed that value at the 10th percentile?\n",
    "\n",
    "Note: This is effectively saying that 90% of the expected returns will be greater than the return at the 10th percentile, so this can help measure the uncertainty about having enough funds at retirement"
   ]
  },
  {
   "cell_type": "code",
   "execution_count": 71,
   "metadata": {},
   "outputs": [
    {
     "name": "stdout",
     "output_type": "stream",
     "text": [
      "a 4% Withdraw will equal $2785.85\n"
     ]
    }
   ],
   "source": [
    "withdraw = 0.04 *portfolio_10 \n",
    "\n",
    "print('A 4% Withdraw will equal $2785.85')"
   ]
  },
  {
   "cell_type": "markdown",
   "metadata": {},
   "source": [
    "### How would a 50% increase in the initial investment amount affect the 4% retirement withdrawal?"
   ]
  },
  {
   "cell_type": "code",
   "execution_count": 72,
   "metadata": {},
   "outputs": [
    {
     "name": "stdout",
     "output_type": "stream",
     "text": [
      "A 50% increase in the initial investment would essentially double the 4% retirement withdrawl to $4178.781271001556\n"
     ]
    }
   ],
   "source": [
    "new_original=30000\n",
    "\n",
    "newp10 = new_original + (new_original * p10)\n",
    "\n",
    "newp50 = new_original + (new_original * p50)\n",
    "\n",
    "newp90 = new_original + (new_original * p90)\n",
    "\n",
    "new_withdraw = newp10 * 0.04\n",
    "new_withdraw\n",
    "print(f'A 50% increase in the initial investment would essentially double the 4% retirement withdrawl to ${new_withdraw}')"
   ]
  },
  {
   "cell_type": "markdown",
   "metadata": {},
   "source": [
    "### Optional Challenge\n",
    "\n",
    "In this section, you will calculate and plot the cumulative returns for the median and 90% confidence intervals. This plot shows the expected cumulative returns for any given day between the first day and the last day of investment. "
   ]
  },
  {
   "cell_type": "code",
   "execution_count": null,
   "metadata": {},
   "outputs": [],
   "source": [
    "# YOUR CODE HERE"
   ]
  }
 ],
 "metadata": {
  "kernel_info": {
   "name": "dev"
  },
  "kernelspec": {
   "display_name": "Python 3",
   "language": "python",
   "name": "python3"
  },
  "language_info": {
   "codemirror_mode": {
    "name": "ipython",
    "version": 3
   },
   "file_extension": ".py",
   "mimetype": "text/x-python",
   "name": "python",
   "nbconvert_exporter": "python",
   "pygments_lexer": "ipython3",
   "version": "3.7.3"
  },
  "nteract": {
   "version": "0.12.3"
  }
 },
 "nbformat": 4,
 "nbformat_minor": 4
}
